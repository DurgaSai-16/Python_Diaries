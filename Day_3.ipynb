{
 "cells": [
  {
   "cell_type": "markdown",
   "id": "ee81b7e1",
   "metadata": {},
   "source": [
    "#### User Input\n",
    "- Input from the user can be accepted using `input()`\n"
   ]
  },
  {
   "cell_type": "code",
   "execution_count": 1,
   "id": "49d6b386",
   "metadata": {},
   "outputs": [
    {
     "name": "stdout",
     "output_type": "stream",
     "text": [
      "Enter your name: Mahendra Singh Dhoni\n"
     ]
    }
   ],
   "source": [
    "Name = input('Enter your name: ')"
   ]
  },
  {
   "cell_type": "markdown",
   "id": "6e9f8184",
   "metadata": {},
   "source": [
    "# Exercise"
   ]
  },
  {
   "cell_type": "markdown",
   "id": "5c4daafc",
   "metadata": {},
   "source": [
    "* Take hour as input from the user and convert it into minutes and seconds\n",
    "* Same like above question, Take day as input and convert it into hours, minutes and seconds.\n",
    "* Accept 5 student names in one input call and print them one after the other.\n",
    "* Take string input from the user and create a new string made with middle three characters of the user-input string.\n",
    "* Take first name and last name from the user and print full name.\n",
    "* Take two strings as input. Create new string by appending string 2 to middle of string 1.\n"
   ]
  },
  {
   "cell_type": "markdown",
   "id": "92403c07",
   "metadata": {},
   "source": [
    "-----------------------------\n",
    "#### Take hour as input from the user and convert it into minutes and seconds"
   ]
  },
  {
   "cell_type": "code",
   "execution_count": 2,
   "id": "1fecea66",
   "metadata": {},
   "outputs": [
    {
     "name": "stdout",
     "output_type": "stream",
     "text": [
      "Time (in Hours): 24\n",
      "Minutes: 1440\n",
      "Seconds:  86400\n"
     ]
    }
   ],
   "source": [
    "Time = int(input(\"Time (in Hours): \"))\n",
    "print(\"Minutes:\",Time*60)\n",
    "print(\"Seconds: \", Time*3600)\n"
   ]
  },
  {
   "cell_type": "markdown",
   "id": "40a753f5",
   "metadata": {},
   "source": [
    "#### Same like above question, Take day as input and convert it into hours, minutes and seconds"
   ]
  },
  {
   "cell_type": "code",
   "execution_count": 3,
   "id": "ba5ecc63",
   "metadata": {},
   "outputs": [
    {
     "name": "stdout",
     "output_type": "stream",
     "text": [
      "Day(s)): 1\n",
      "Hours:  24\n",
      "Minutes:  1440\n",
      "Seconds:  86400\n"
     ]
    }
   ],
   "source": [
    "Day = int(input(\"Day(s)): \"))\n",
    "print(\"Hours: \",Day*24)\n",
    "print(\"Minutes: \",Day*24*60)\n",
    "print(\"Seconds: \", Day*24*3600)"
   ]
  },
  {
   "cell_type": "markdown",
   "id": "4acba1bc",
   "metadata": {},
   "source": [
    "#### Accept 5 student names in one input call and print them one after the other"
   ]
  },
  {
   "cell_type": "code",
   "execution_count": 3,
   "id": "68162314",
   "metadata": {},
   "outputs": [
    {
     "name": "stdout",
     "output_type": "stream",
     "text": [
      "Enter names of 5 students: Dhoni Virat Rohit Hardik Jadeja\n",
      "Dhoni\n",
      "Virat\n",
      "Rohit\n",
      "Hardik\n",
      "Jadeja\n"
     ]
    }
   ],
   "source": [
    "s1, s2, s3, s4, s5 = input(\"Enter names of 5 students: \").split()\n",
    "print(s1)\n",
    "print(s2)\n",
    "print(s3)\n",
    "print(s4)\n",
    "print(s5)"
   ]
  },
  {
   "cell_type": "markdown",
   "id": "7eb7c710",
   "metadata": {},
   "source": [
    "#### Take string input from the user and create a new string made with middle three characters of the user-input string."
   ]
  },
  {
   "cell_type": "code",
   "execution_count": 5,
   "id": "964c92c5",
   "metadata": {},
   "outputs": [
    {
     "name": "stdout",
     "output_type": "stream",
     "text": [
      "Name: jupyter\n",
      "pyt\n"
     ]
    }
   ],
   "source": [
    "Name = input(\"Name: \")\n",
    "M = int(len(Name)/2)\n",
    "N = Name[M-1 : M+2]\n",
    "print(N)"
   ]
  },
  {
   "cell_type": "markdown",
   "id": "6232ce91",
   "metadata": {},
   "source": [
    "#### Take first name and last name from the user and print full name."
   ]
  },
  {
   "cell_type": "code",
   "execution_count": 6,
   "id": "e5c9f61e",
   "metadata": {},
   "outputs": [
    {
     "name": "stdout",
     "output_type": "stream",
     "text": [
      "First_name: virat\n",
      "Last_name: kohli\n",
      "Full_name:  viratkohli\n"
     ]
    }
   ],
   "source": [
    "First_name = input(\"First_name: \")\n",
    "Last_name = input(\"Last_name: \")\n",
    "print(\"Full_name: \", First_name + Last_name)"
   ]
  },
  {
   "cell_type": "markdown",
   "id": "7f3eae7f",
   "metadata": {},
   "source": [
    "#### Take two strings as input. Create new string by appending string 2 to middle of string 1."
   ]
  },
  {
   "cell_type": "code",
   "execution_count": 7,
   "id": "a269abaf",
   "metadata": {},
   "outputs": [
    {
     "name": "stdout",
     "output_type": "stream",
     "text": [
      "String 1: safety\n",
      "String 2: protect\n",
      "New string is:  safprotectety\n"
     ]
    }
   ],
   "source": [
    "A = input(\"String 1: \")\n",
    "B = input(\"String 2: \")\n",
    "M = int(len(A)/2)\n",
    "N = A[:M:]\n",
    "N = N + B\n",
    "N = N + A[M:]\n",
    "print(\"New string is: \",N)"
   ]
  }
 ],
 "metadata": {
  "kernelspec": {
   "display_name": "Python 3 (ipykernel)",
   "language": "python",
   "name": "python3"
  },
  "language_info": {
   "codemirror_mode": {
    "name": "ipython",
    "version": 3
   },
   "file_extension": ".py",
   "mimetype": "text/x-python",
   "name": "python",
   "nbconvert_exporter": "python",
   "pygments_lexer": "ipython3",
   "version": "3.9.7"
  }
 },
 "nbformat": 4,
 "nbformat_minor": 5
}
