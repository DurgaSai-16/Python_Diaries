{
 "cells": [
  {
   "cell_type": "markdown",
   "id": "d3180fbe",
   "metadata": {},
   "source": [
    "# Exercise"
   ]
  },
  {
   "cell_type": "markdown",
   "id": "60b1f58c",
   "metadata": {},
   "source": [
    "### Program: Test whether a number is within 100 of 1000 or 2000."
   ]
  },
  {
   "cell_type": "code",
   "execution_count": 1,
   "id": "16840246",
   "metadata": {},
   "outputs": [
    {
     "name": "stdout",
     "output_type": "stream",
     "text": [
      "987\n",
      "true\n"
     ]
    }
   ],
   "source": [
    "a=int(input())\n",
    "if abs(1000-a<=100) or abs(2000-a<=100):\n",
    "    print('true')\n",
    "else:\n",
    "    print('false')\n",
    "    "
   ]
  },
  {
   "cell_type": "markdown",
   "id": "119dc6ac",
   "metadata": {},
   "source": [
    "### Program: If the values are equal then return three times of their sum. Else print their sum."
   ]
  },
  {
   "cell_type": "code",
   "execution_count": 2,
   "id": "50aa90da",
   "metadata": {},
   "outputs": [
    {
     "name": "stdout",
     "output_type": "stream",
     "text": [
      "9\n",
      "9\n",
      "9\n",
      "81.0\n"
     ]
    }
   ],
   "source": [
    "a=float(input())\n",
    "b=float(input())\n",
    "c=float(input())\n",
    "if a==b==c:\n",
    "    print((a+b+c)*3)\n",
    "else:\n",
    "    print(a+b+c)"
   ]
  },
  {
   "cell_type": "markdown",
   "id": "d46de361",
   "metadata": {},
   "source": [
    "### Program: To get a new string from a given string where \"Is\" has been added to the front. If the given string already begins with \"Is\" then return the string unchanged."
   ]
  },
  {
   "cell_type": "code",
   "execution_count": 3,
   "id": "007088b9",
   "metadata": {},
   "outputs": [
    {
     "name": "stdout",
     "output_type": "stream",
     "text": [
      "it you\n",
      "is it you\n"
     ]
    }
   ],
   "source": [
    "a=input()\n",
    "if a[:2].upper()=='IS':\n",
    "    print(a)\n",
    "else:\n",
    "    print('is '+a)\n"
   ]
  },
  {
   "cell_type": "markdown",
   "id": "9234d20d",
   "metadata": {},
   "source": [
    "### Program: To get a string which is n copies of a given string."
   ]
  },
  {
   "cell_type": "code",
   "execution_count": 4,
   "id": "2e6e3860",
   "metadata": {},
   "outputs": [
    {
     "name": "stdout",
     "output_type": "stream",
     "text": [
      "abc\n",
      "2\n",
      "abcabc\n"
     ]
    }
   ],
   "source": [
    "a=input()\n",
    "n=int(input())\n",
    "print(a*n)"
   ]
  },
  {
   "cell_type": "markdown",
   "id": "437d1eeb",
   "metadata": {},
   "source": [
    "### Program: To find whether a given number is even or odd."
   ]
  },
  {
   "cell_type": "code",
   "execution_count": 5,
   "id": "f0890896",
   "metadata": {},
   "outputs": [
    {
     "name": "stdout",
     "output_type": "stream",
     "text": [
      "9\n",
      "odd\n"
     ]
    }
   ],
   "source": [
    "a=float(input())\n",
    "if a%2==0:\n",
    "    print('even')\n",
    "else:\n",
    "    print('odd')"
   ]
  },
  {
   "cell_type": "markdown",
   "id": "7b432296",
   "metadata": {},
   "source": [
    "### Program: To get the n copies of the first 2 characters of string. Return the n copies of the whole string if the length is less than 2."
   ]
  },
  {
   "cell_type": "code",
   "execution_count": 6,
   "id": "38232ddc",
   "metadata": {},
   "outputs": [
    {
     "name": "stdout",
     "output_type": "stream",
     "text": [
      "virat\n",
      "2\n",
      "vivi\n"
     ]
    }
   ],
   "source": [
    "a=input()\n",
    "n=int(input())\n",
    "b=len(a)\n",
    "if b>2:\n",
    "    print(a[:2]*n)\n",
    "else:\n",
    "    print(a)\n",
    "   "
   ]
  },
  {
   "cell_type": "markdown",
   "id": "7a6a7f8c",
   "metadata": {},
   "source": [
    "### Program: Vowel or not. "
   ]
  },
  {
   "cell_type": "code",
   "execution_count": 7,
   "id": "1923d41c",
   "metadata": {},
   "outputs": [
    {
     "name": "stdout",
     "output_type": "stream",
     "text": [
      "D\n",
      "False\n"
     ]
    }
   ],
   "source": [
    "a= input()\n",
    "print( a in  \"aeiou\")"
   ]
  },
  {
   "cell_type": "markdown",
   "id": "09bd848d",
   "metadata": {},
   "source": [
    " ### Program: To check whether a specified value is contained in a group of values."
   ]
  },
  {
   "cell_type": "code",
   "execution_count": 8,
   "id": "90b76de9",
   "metadata": {},
   "outputs": [
    {
     "name": "stdout",
     "output_type": "stream",
     "text": [
      "9\n",
      "False\n"
     ]
    }
   ],
   "source": [
    "a=[1,5,8,3]\n",
    "n=input()\n",
    "print(n in a)"
   ]
  },
  {
   "cell_type": "markdown",
   "id": "a5f7826a",
   "metadata": {},
   "source": [
    "### Program: Area of Triangle."
   ]
  },
  {
   "cell_type": "code",
   "execution_count": 9,
   "id": "8efc7c2e",
   "metadata": {},
   "outputs": [
    {
     "name": "stdout",
     "output_type": "stream",
     "text": [
      "9\n",
      "9\n",
      "40.5\n"
     ]
    }
   ],
   "source": [
    "b=float(input())\n",
    "h=float(input())\n",
    "print(1/2*b*h)"
   ]
  },
  {
   "cell_type": "markdown",
   "id": "6984519b",
   "metadata": {},
   "source": [
    "### Program:  GCD."
   ]
  },
  {
   "cell_type": "code",
   "execution_count": 10,
   "id": "59a0b8de",
   "metadata": {},
   "outputs": [
    {
     "name": "stdout",
     "output_type": "stream",
     "text": [
      "48\n",
      "60\n",
      "12.0\n"
     ]
    }
   ],
   "source": [
    "n1=float(input())\n",
    "n2=float(input())\n",
    "if n2==0:\n",
    "    print(n1)\n",
    "elif n1==0:\n",
    "    print(n2)\n",
    "elif n1>=n2:\n",
    "    print(n1%n2)\n",
    "else:\n",
    "    print(n2%n1)"
   ]
  },
  {
   "cell_type": "markdown",
   "id": "0689fc89",
   "metadata": {},
   "source": [
    "### Program: GCD Method 2."
   ]
  },
  {
   "cell_type": "code",
   "execution_count": 11,
   "id": "af1f711a",
   "metadata": {},
   "outputs": [
    {
     "name": "stdout",
     "output_type": "stream",
     "text": [
      "48 \n",
      "60\n",
      "12\n"
     ]
    }
   ],
   "source": [
    "import math\n",
    "n1=int(input())\n",
    "n2=int(input()) \n",
    "\n",
    "print(math.gcd(n1,n2))"
   ]
  },
  {
   "cell_type": "markdown",
   "id": "8a895a4a",
   "metadata": {},
   "source": [
    "### Program: LCM"
   ]
  },
  {
   "cell_type": "code",
   "execution_count": 12,
   "id": "998effcf",
   "metadata": {},
   "outputs": [
    {
     "name": "stdout",
     "output_type": "stream",
     "text": [
      "4\n",
      "6\n",
      "12\n"
     ]
    }
   ],
   "source": [
    "import math\n",
    "n1=int(input())\n",
    "n2=int(input()) \n",
    "\n",
    "print(math.lcm(n1,n2))"
   ]
  },
  {
   "cell_type": "markdown",
   "id": "97917f34",
   "metadata": {},
   "source": [
    "### Program: LCM Method 2."
   ]
  },
  {
   "cell_type": "code",
   "execution_count": 13,
   "id": "35394f83",
   "metadata": {},
   "outputs": [
    {
     "name": "stdout",
     "output_type": "stream",
     "text": [
      "4\n",
      "6\n",
      "12.0\n"
     ]
    }
   ],
   "source": [
    "n1=int(input())\n",
    "n2=int(input())\n",
    "if n2==0:\n",
    "    print(n1)\n",
    "elif n1==0:\n",
    "    print(n2)\n",
    "elif n1>=n2:\n",
    "    print((n1/(n1%n2)*n2))\n",
    "else:\n",
    "     print((n2/(n2%n1)*n1))"
   ]
  },
  {
   "cell_type": "markdown",
   "id": "4667818d",
   "metadata": {},
   "source": [
    "### Program: To sum of three given integers. However, if two values are equal sum will be zero."
   ]
  },
  {
   "cell_type": "code",
   "execution_count": 14,
   "id": "f9e6ecc4",
   "metadata": {},
   "outputs": [
    {
     "name": "stdout",
     "output_type": "stream",
     "text": [
      "9\n",
      "16\n",
      "12\n",
      "37\n"
     ]
    }
   ],
   "source": [
    "a=int(input())\n",
    "b=int(input())\n",
    "c=int(input())\n",
    "if a==b or b==c or c==a:\n",
    "    print('0')\n",
    "else:\n",
    "    print(a+b+c)\n",
    "    "
   ]
  },
  {
   "cell_type": "markdown",
   "id": "609985c2",
   "metadata": {},
   "source": [
    " ### Program: To sum of two integers. However, if the sum is between 15 to 20 it will return 20. "
   ]
  },
  {
   "cell_type": "code",
   "execution_count": 15,
   "id": "397bc822",
   "metadata": {},
   "outputs": [
    {
     "name": "stdout",
     "output_type": "stream",
     "text": [
      "9\n",
      "16\n",
      "25\n"
     ]
    }
   ],
   "source": [
    "a=int(input())\n",
    "b=int(input())\n",
    "if a+b in range(15,20):\n",
    "    print('20')\n",
    "else:\n",
    "    print(a+b)"
   ]
  },
  {
   "cell_type": "markdown",
   "id": "188b8202",
   "metadata": {},
   "source": [
    "### Program: Return true if the two given integer values are equal or their sum or difference is 5."
   ]
  },
  {
   "cell_type": "code",
   "execution_count": 16,
   "id": "50a72bf3",
   "metadata": {},
   "outputs": [
    {
     "name": "stdout",
     "output_type": "stream",
     "text": [
      "9\n",
      "16\n",
      "false\n"
     ]
    }
   ],
   "source": [
    "a=int(input())\n",
    "b=int(input())\n",
    "if a==b or a+b==5 or abs(a-b)==5:\n",
    "    print('true')\n",
    "else:\n",
    "    print('false')\n"
   ]
  },
  {
   "cell_type": "markdown",
   "id": "a08e42c1",
   "metadata": {},
   "source": [
    "### Program: To display your details like name, age, address in three different lines. "
   ]
  },
  {
   "cell_type": "code",
   "execution_count": 17,
   "id": "61b8adb8",
   "metadata": {},
   "outputs": [
    {
     "name": "stdout",
     "output_type": "stream",
     "text": [
      "Name:Durga Sai\n",
      "Age:22\n",
      "Address:Visakhapatnam\n",
      "Name: Durga Sai\n",
      "Age: 22\n",
      "Address: Visakhapatnam\n"
     ]
    }
   ],
   "source": [
    "a=input('Name:')\n",
    "b=int(input('Age:'))\n",
    "c=input('Address:')\n",
    "print(\"Name: {}\\nAge: {}\\nAddress: {}\".format(a, b, c))"
   ]
  },
  {
   "cell_type": "markdown",
   "id": "1bd16242",
   "metadata": {},
   "source": [
    "### Program: To solve (x + y) * (x + y)"
   ]
  },
  {
   "cell_type": "code",
   "execution_count": 18,
   "id": "4925d59b",
   "metadata": {},
   "outputs": [
    {
     "name": "stdout",
     "output_type": "stream",
     "text": [
      "9\n",
      "16\n",
      "625\n"
     ]
    }
   ],
   "source": [
    "x=int(input())\n",
    "y=int(input())\n",
    "c=(x+y)**2\n",
    "print(c)"
   ]
  },
  {
   "cell_type": "markdown",
   "id": "160fa973",
   "metadata": {},
   "source": [
    "### Program: To compute the future value of a specified principal amount, rate of interest, and a number of years. \n",
    "### Test Data: amt = 10000, int = 3.5, years = 7 \n",
    "### Expected Output : 12722.79\n",
    "\n"
   ]
  },
  {
   "cell_type": "code",
   "execution_count": 19,
   "id": "887d0231",
   "metadata": {},
   "outputs": [
    {
     "name": "stdout",
     "output_type": "stream",
     "text": [
      "10000\n",
      "3.5\n",
      "7\n",
      "12722.792627665729\n"
     ]
    }
   ],
   "source": [
    "a=float(input())\n",
    "r=float(input())\n",
    "n=float(input())\n",
    "fv=a*(1+(r*0.01))**n\n",
    "print(fv)"
   ]
  },
  {
   "cell_type": "markdown",
   "id": "838b42f9",
   "metadata": {},
   "source": [
    "### Program: To compute the distance between the points (x1, y1) and (x2, y2)."
   ]
  },
  {
   "cell_type": "code",
   "execution_count": 20,
   "id": "3e3c7947",
   "metadata": {},
   "outputs": [
    {
     "name": "stdout",
     "output_type": "stream",
     "text": [
      "4\n",
      "0\n",
      "6\n",
      "6\n",
      "6.324555320336759\n"
     ]
    }
   ],
   "source": [
    "x1=float(input())\n",
    "y1=float(input())\n",
    "x2=float(input())\n",
    "y2=float(input())\n",
    "print((((x2-x1)**2)+((y2-y1)**2))**(1/2))\n"
   ]
  }
 ],
 "metadata": {
  "kernelspec": {
   "display_name": "Python 3 (ipykernel)",
   "language": "python",
   "name": "python3"
  },
  "language_info": {
   "codemirror_mode": {
    "name": "ipython",
    "version": 3
   },
   "file_extension": ".py",
   "mimetype": "text/x-python",
   "name": "python",
   "nbconvert_exporter": "python",
   "pygments_lexer": "ipython3",
   "version": "3.9.7"
  }
 },
 "nbformat": 4,
 "nbformat_minor": 5
}
