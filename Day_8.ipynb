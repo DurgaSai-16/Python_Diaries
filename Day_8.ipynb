{
 "cells": [
  {
   "cell_type": "markdown",
   "id": "0bc5f190",
   "metadata": {},
   "source": [
    "# Lists \n",
    "* Stores multiple items in single variable\n",
    "* Defined using square brackets `[]`.\n",
    "* List can contain various data types.\n",
    "* Lists are mutable. - can be changed.\n",
    "* First element in index starts with 0. i.e. [0].\n",
    "* Lists are ordered newly added element will be placed at the end.\n"
   ]
  },
  {
   "cell_type": "markdown",
   "id": "55c35e39",
   "metadata": {},
   "source": [
    "### Exercise: To know whether list it is a list or not - type() can be used."
   ]
  },
  {
   "cell_type": "code",
   "execution_count": 1,
   "id": "8920ce3c",
   "metadata": {},
   "outputs": [
    {
     "name": "stdout",
     "output_type": "stream",
     "text": [
      "<class 'list'>\n"
     ]
    }
   ],
   "source": [
    "a = [\"rafting\", \"sailing\", \"surfing\"]\n",
    "print(type(a))"
   ]
  },
  {
   "cell_type": "markdown",
   "id": "fc538465",
   "metadata": {},
   "source": [
    "### Exercise: List can contain multiple data types"
   ]
  },
  {
   "cell_type": "code",
   "execution_count": 2,
   "id": "612ac3be",
   "metadata": {},
   "outputs": [
    {
     "name": "stdout",
     "output_type": "stream",
     "text": [
      "['Python', 1980, True]\n",
      "<class 'list'>\n"
     ]
    }
   ],
   "source": [
    "b = ['Python',1980,True]\n",
    "print(b)\n",
    "print(type(b))"
   ]
  },
  {
   "cell_type": "markdown",
   "id": "ee9dc848",
   "metadata": {},
   "source": [
    "### Exercise: List without any elements is EMPTY LIST"
   ]
  },
  {
   "cell_type": "code",
   "execution_count": 3,
   "id": "b42afd47",
   "metadata": {},
   "outputs": [
    {
     "name": "stdout",
     "output_type": "stream",
     "text": [
      "<class 'list'>\n"
     ]
    }
   ],
   "source": [
    "c = []\n",
    "print(type(c))"
   ]
  },
  {
   "cell_type": "markdown",
   "id": "108cda65",
   "metadata": {},
   "source": [
    "### Exercise: List inside another list is known as NESTED LIST\n"
   ]
  },
  {
   "cell_type": "code",
   "execution_count": 4,
   "id": "89689435",
   "metadata": {},
   "outputs": [
    {
     "name": "stdout",
     "output_type": "stream",
     "text": [
      "<class 'list'>\n",
      "16\n"
     ]
    }
   ],
   "source": [
    "d = [9,3,0,[16,12],99]\n",
    "print(type(d))\n",
    "print(d[3][0]) # To call an element from nested list."
   ]
  },
  {
   "cell_type": "markdown",
   "id": "6c32e0ab",
   "metadata": {},
   "source": [
    "### Exercise: len() is used to know the length of the list."
   ]
  },
  {
   "cell_type": "code",
   "execution_count": 5,
   "id": "7c7e10ec",
   "metadata": {},
   "outputs": [
    {
     "name": "stdout",
     "output_type": "stream",
     "text": [
      "14\n"
     ]
    }
   ],
   "source": [
    "e = [2,1,0,1,9,7,5,2,1,0,2,1,0,5]\n",
    "print(len(e))"
   ]
  },
  {
   "cell_type": "markdown",
   "id": "3f609663",
   "metadata": {},
   "source": [
    "### Exercise: index() - returns index of an element in the list"
   ]
  },
  {
   "cell_type": "code",
   "execution_count": 6,
   "id": "4095de7b",
   "metadata": {},
   "outputs": [
    {
     "data": {
      "text/plain": [
       "4"
      ]
     },
     "execution_count": 6,
     "metadata": {},
     "output_type": "execute_result"
    }
   ],
   "source": [
    "e.index(9)"
   ]
  },
  {
   "cell_type": "markdown",
   "id": "238b7fcd",
   "metadata": {},
   "source": [
    "### Exercise: append() - adds an element to the end of the list."
   ]
  },
  {
   "cell_type": "code",
   "execution_count": 7,
   "id": "2f24b492",
   "metadata": {},
   "outputs": [
    {
     "name": "stdout",
     "output_type": "stream",
     "text": [
      "['tropical', 'temperate', 'humid', 'tundra', 'polar']\n"
     ]
    }
   ],
   "source": [
    "f = ['tropical','temperate','humid','tundra']\n",
    "f.append('polar')\n",
    "print(f)"
   ]
  },
  {
   "cell_type": "markdown",
   "id": "f9ad0053",
   "metadata": {},
   "source": [
    "### Exercise: extend() - adds specified list of elements to the end of the list."
   ]
  },
  {
   "cell_type": "code",
   "execution_count": 8,
   "id": "69cdccae",
   "metadata": {},
   "outputs": [
    {
     "name": "stdout",
     "output_type": "stream",
     "text": [
      "['good', 'perfect', 'ideal', 'superb', 'excellent', 'impeccable']\n"
     ]
    }
   ],
   "source": [
    "g = ['good','perfect','ideal']\n",
    "g.extend(['superb','excellent','impeccable'])\n",
    "print(g)"
   ]
  },
  {
   "cell_type": "markdown",
   "id": "41797244",
   "metadata": {},
   "source": [
    "### Exercise: insert() - to insert an element at specified position in a list.\n",
    "* Syntax: insert(position,value)\n"
   ]
  },
  {
   "cell_type": "code",
   "execution_count": 9,
   "id": "f84bc8bf",
   "metadata": {},
   "outputs": [
    {
     "name": "stdout",
     "output_type": "stream",
     "text": [
      "['a', 'b', 'c', 'd', 'e', 'f', 'g', 'h', 'i']\n"
     ]
    }
   ],
   "source": [
    "h = ['a','b','c','e','f','g','h','i']\n",
    "h.insert(3,'d')\n",
    "print(h)"
   ]
  },
  {
   "cell_type": "markdown",
   "id": "ae5bd931",
   "metadata": {},
   "source": [
    "### Exercise: count() - gives number of times specified element appears in the list."
   ]
  },
  {
   "cell_type": "code",
   "execution_count": 10,
   "id": "d9697d2c",
   "metadata": {},
   "outputs": [
    {
     "name": "stdout",
     "output_type": "stream",
     "text": [
      "5\n"
     ]
    }
   ],
   "source": [
    "i = [1,9,9,9,2,0,0,0,2,0,0,1]\n",
    "print(i.count(0))\n"
   ]
  },
  {
   "cell_type": "markdown",
   "id": "24ecc192",
   "metadata": {},
   "source": [
    "### Exercise: pop() -  removes element at specified index from the list."
   ]
  },
  {
   "cell_type": "code",
   "execution_count": 11,
   "id": "f8381afb",
   "metadata": {},
   "outputs": [
    {
     "name": "stdout",
     "output_type": "stream",
     "text": [
      "[1, 2, 3, 4, 5, 6, 7, 8, 9]\n"
     ]
    }
   ],
   "source": [
    "j = [1,1,2,3,4,5,6,7,8,9]\n",
    "j.pop(1)\n",
    "print(j)"
   ]
  },
  {
   "cell_type": "markdown",
   "id": "57e77499",
   "metadata": {},
   "source": [
    "### Exercise: reverse() - reverse the elements of the list.\n"
   ]
  },
  {
   "cell_type": "code",
   "execution_count": 12,
   "id": "4978b127",
   "metadata": {},
   "outputs": [
    {
     "name": "stdout",
     "output_type": "stream",
     "text": [
      "['a', 'b', 'c', 'd', 'e', 'f', 'g']\n"
     ]
    }
   ],
   "source": [
    "k = ['g','f','e','d','c','b','a']\n",
    "k.reverse()\n",
    "print(k)"
   ]
  },
  {
   "cell_type": "markdown",
   "id": "6f62911e",
   "metadata": {},
   "source": [
    "### Exercise: sort() - arranges list in ascending order \n"
   ]
  },
  {
   "cell_type": "code",
   "execution_count": 13,
   "id": "f12e78bf",
   "metadata": {},
   "outputs": [
    {
     "name": "stdout",
     "output_type": "stream",
     "text": [
      "[1, 2, 3, 4, 5, 6, 7, 8, 9]\n"
     ]
    }
   ],
   "source": [
    "l = [6,9,5,2,4,1,7,3,8]\n",
    "l.sort()\n",
    "print(l)"
   ]
  },
  {
   "cell_type": "markdown",
   "id": "338731ac",
   "metadata": {},
   "source": [
    "### Exercise: clear() - removes all the elements from the list.\n"
   ]
  },
  {
   "cell_type": "code",
   "execution_count": 14,
   "id": "07511720",
   "metadata": {},
   "outputs": [
    {
     "name": "stdout",
     "output_type": "stream",
     "text": [
      "[1, 3, 5, 7, 9]\n",
      "[]\n"
     ]
    }
   ],
   "source": [
    "m = [1,3,5,7,9]\n",
    "print(m)\n",
    "m.clear()\n",
    "print(m)"
   ]
  },
  {
   "cell_type": "markdown",
   "id": "b1ac462f",
   "metadata": {},
   "source": [
    "### Exercise: copy() - returns shallow copy of the list."
   ]
  },
  {
   "cell_type": "code",
   "execution_count": 15,
   "id": "1f6399ef",
   "metadata": {},
   "outputs": [
    {
     "name": "stdout",
     "output_type": "stream",
     "text": [
      "[1, 2, 3, 4, 5, 6, 7, 8, 9]\n"
     ]
    }
   ],
   "source": [
    "n = l.copy()\n",
    "print(n)"
   ]
  },
  {
   "cell_type": "markdown",
   "id": "d7978ee9",
   "metadata": {},
   "source": [
    "### Exercise: remove() -  removers first matching element in the list."
   ]
  },
  {
   "cell_type": "code",
   "execution_count": 16,
   "id": "1f3a99a6",
   "metadata": {},
   "outputs": [
    {
     "name": "stdout",
     "output_type": "stream",
     "text": [
      "[1, 9, 6, 0, 1, 3, 2]\n"
     ]
    }
   ],
   "source": [
    "o = [0,1,9,6,0,1,3,2]\n",
    "o.remove(0)\n",
    "print(o)"
   ]
  }
 ],
 "metadata": {
  "kernelspec": {
   "display_name": "Python 3 (ipykernel)",
   "language": "python",
   "name": "python3"
  },
  "language_info": {
   "codemirror_mode": {
    "name": "ipython",
    "version": 3
   },
   "file_extension": ".py",
   "mimetype": "text/x-python",
   "name": "python",
   "nbconvert_exporter": "python",
   "pygments_lexer": "ipython3",
   "version": "3.9.7"
  }
 },
 "nbformat": 4,
 "nbformat_minor": 5
}
