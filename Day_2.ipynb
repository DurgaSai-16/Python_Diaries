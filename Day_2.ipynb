{
 "cells": [
  {
   "cell_type": "markdown",
   "id": "1af4cb6b",
   "metadata": {},
   "source": [
    "#### Boolean\n",
    "\n",
    "* Used to represent the `TRUE` or `FALSE` of an expression\n",
    "* `bool()` function is evaluate any value and gives `TRUE` or `FALSE`"
   ]
  },
  {
   "cell_type": "code",
   "execution_count": 1,
   "id": "358a08f1",
   "metadata": {},
   "outputs": [
    {
     "name": "stdout",
     "output_type": "stream",
     "text": [
      "True\n",
      "False\n",
      "False\n"
     ]
    }
   ],
   "source": [
    "print(16 > 9)\n",
    "print(16 == 9)\n",
    "print(12 < 3)"
   ]
  },
  {
   "cell_type": "code",
   "execution_count": 4,
   "id": "75488bb7",
   "metadata": {},
   "outputs": [
    {
     "name": "stdout",
     "output_type": "stream",
     "text": [
      "True\n",
      "True\n",
      "True\n",
      "False\n",
      "False\n",
      "False\n",
      "False\n",
      "False\n",
      "False\n",
      "False\n"
     ]
    }
   ],
   "source": [
    "print(bool(\"Finisher\"))\n",
    "print(bool(1612))\n",
    "print(bool([\"BGMI\", \"COD\", \"WCC\"]))\n",
    "print(bool(False))\n",
    "print(bool(None))\n",
    "print(bool(0))\n",
    "print(bool(\"\"))\n",
    "print(bool(()))\n",
    "print(bool([]))\n",
    "print(bool({}))"
   ]
  },
  {
   "cell_type": "markdown",
   "id": "dd2f033c",
   "metadata": {},
   "source": [
    "------------------------\n",
    "### Operators\n",
    "\n",
    "* Performs operations on variables and values.\n",
    "* Operators are divided as follows:\n",
    "    * Arithmetic operators\n",
    "    * Assignment operators\n",
    "    * Comparison operators\n",
    "    * Logical operators\n",
    "    * Identity operators\n",
    "    * Membership operators\n",
    "    * Bitwise operators\n"
   ]
  },
  {
   "cell_type": "markdown",
   "id": "6fec5066",
   "metadata": {},
   "source": [
    "#### Arithmetic Operators"
   ]
  },
  {
   "cell_type": "code",
   "execution_count": 7,
   "id": "b7de3d57",
   "metadata": {},
   "outputs": [
    {
     "name": "stdout",
     "output_type": "stream",
     "text": [
      "25\n",
      "7\n",
      "144\n",
      "1.7777777777777777\n",
      "7\n",
      "68719476736\n",
      "1\n"
     ]
    }
   ],
   "source": [
    "x = 16\n",
    "y = 9\n",
    "print(x+y) # Addition\n",
    "print(x-y) # Subtraction\n",
    "print(x*y) # Multiplication\n",
    "print(x/y) # Division\n",
    "print(x%y) # Modulus\n",
    "print(x**y) # Exponentiation\n",
    "print(x//y) # Floor Division"
   ]
  },
  {
   "cell_type": "markdown",
   "id": "67f68a2f",
   "metadata": {},
   "source": [
    "#### Assignment Operators\n",
    "\n",
    "* Used to assign values to the variables.\n",
    "\n",
    "```python\n",
    "z = 16 #Operator z = 16\n",
    "z += 16 #Operator z = z + 16\n",
    "z -= 16 #Operator z = z - 16\n",
    "z *= 16 #Operator z = z * 16\n",
    "z /= 16 #Operator z = z/16\n",
    "z %= 16 #Operator z = z % 16\n",
    "z //= 16 #Operator z = z // 16\n",
    "z **= 16 #Operator z = z**16\n",
    "z &= 16 #Operator z = z & 16\n",
    "z |= 16 #Operator z = z | 16\n",
    "z ^= 16 #Operator z = z ^ 16\n",
    "z >>= 16 #Operator z = z >> 16\n",
    "z <<= 16 #Operator z = z << 16\n",
    "\n",
    "```"
   ]
  },
  {
   "cell_type": "markdown",
   "id": "2bba8fb1",
   "metadata": {},
   "source": [
    "#### Comparision Operators\n",
    "* Used to compare to values"
   ]
  },
  {
   "cell_type": "code",
   "execution_count": 10,
   "id": "256b685b",
   "metadata": {},
   "outputs": [
    {
     "name": "stdout",
     "output_type": "stream",
     "text": [
      "False\n",
      "True\n",
      "True\n",
      "False\n",
      "True\n",
      "False\n"
     ]
    }
   ],
   "source": [
    "print(16 == 9) #Equal\n",
    "print(16 != 9) #Not equal\n",
    "print(16 > 9) #Greater than\n",
    "print(16 < 9) #Less than\n",
    "print(16 >= 9) #Greater than or Equal to\n",
    "print(16 <= 9) #Less than or Equal to"
   ]
  },
  {
   "cell_type": "markdown",
   "id": "7c14ed7b",
   "metadata": {},
   "source": [
    "#### Logical Operators\n",
    "\n",
    "* Used to combine conditional statements. (and, or, not)"
   ]
  },
  {
   "cell_type": "code",
   "execution_count": 13,
   "id": "dd16c10f",
   "metadata": {},
   "outputs": [
    {
     "name": "stdout",
     "output_type": "stream",
     "text": [
      "False\n",
      "False\n",
      "True\n"
     ]
    }
   ],
   "source": [
    "w = 9\n",
    "print(w < 5 and  w < 10)\n",
    "print(w < 5 or w < 4)\n",
    "print(not(w < 5 and w < 10))"
   ]
  },
  {
   "cell_type": "markdown",
   "id": "bd47ca5f",
   "metadata": {},
   "source": [
    "#### Identity Operators\n",
    "\n",
    "* Compares the memory locations of two objects. (is, is not)"
   ]
  },
  {
   "cell_type": "code",
   "execution_count": 15,
   "id": "0c5af9d3",
   "metadata": {
    "scrolled": true
   },
   "outputs": [
    {
     "name": "stdout",
     "output_type": "stream",
     "text": [
      "True\n",
      "False\n",
      "True\n"
     ]
    }
   ],
   "source": [
    "x = [\"brain\", \"heart\"]\n",
    "y = [\"brain\", \"heart\"]\n",
    "z = x\n",
    "print(x is z)\n",
    "print(x is y)\n",
    "print(x == y)"
   ]
  },
  {
   "cell_type": "markdown",
   "id": "2972a21b",
   "metadata": {},
   "source": [
    "#### Membership Operators\n",
    "* True if it finds a specified value in the sequence and false otherwise (in, not in)."
   ]
  },
  {
   "cell_type": "code",
   "execution_count": 16,
   "id": "47b01465",
   "metadata": {},
   "outputs": [
    {
     "name": "stdout",
     "output_type": "stream",
     "text": [
      "True\n",
      "True\n"
     ]
    }
   ],
   "source": [
    "RRR = [\"rise\", \"roar\", \"revolt\"]\n",
    "\n",
    "print(\"roar\" in RRR)\n",
    "print(\"revenge\" not in RRR)"
   ]
  },
  {
   "cell_type": "markdown",
   "id": "4b465578",
   "metadata": {},
   "source": [
    "#### Bitwise Operators\n",
    "* Used to compare binary numbers. (&, |, ^, ~, <<, >>)"
   ]
  },
  {
   "cell_type": "code",
   "execution_count": 1,
   "id": "f9496583",
   "metadata": {},
   "outputs": [
    {
     "name": "stdout",
     "output_type": "stream",
     "text": [
      "0\n",
      "14\n",
      "-11\n",
      "14\n",
      "2\n",
      "40\n"
     ]
    }
   ],
   "source": [
    "m = 10\n",
    "n = 4\n",
    "print(m & n) #Bitwise AND operation\n",
    "print(m | n) #Bitwise OR operation\n",
    "print(~m) #Bitwise NOT operation\n",
    "print(m ^ n) #Bitwise XOR operation\n",
    "print(m >> 2) #Bitwise right shift operation\n",
    "print(m << 2) #Bitwise left shift operation"
   ]
  }
 ],
 "metadata": {
  "kernelspec": {
   "display_name": "Python 3 (ipykernel)",
   "language": "python",
   "name": "python3"
  },
  "language_info": {
   "codemirror_mode": {
    "name": "ipython",
    "version": 3
   },
   "file_extension": ".py",
   "mimetype": "text/x-python",
   "name": "python",
   "nbconvert_exporter": "python",
   "pygments_lexer": "ipython3",
   "version": "3.9.7"
  }
 },
 "nbformat": 4,
 "nbformat_minor": 5
}
