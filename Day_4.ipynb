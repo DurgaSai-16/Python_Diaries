{
 "cells": [
  {
   "cell_type": "markdown",
   "id": "b98161d4",
   "metadata": {},
   "source": [
    "# Conditionals\n",
    "* if statement\n",
    "* else statement\n",
    "* elif statement\n",
    "* Nested if \n",
    "\n",
    "#### if statement\n",
    "\n",
    "```python\n",
    "if <condition>:\n",
    "    statement(s)\n",
    "print(rest of the code)\n",
    "```\n",
    "    \n",
    "#### else statement\n",
    "\n",
    "```python\n",
    "if <condition>:\n",
    "    statement(s)\n",
    "    \n",
    "else:\n",
    "    statement(s)\n",
    "print(rest of the code)\n",
    "```\n",
    "\n",
    "#### elif statement\n",
    "\n",
    "```python\n",
    "if <condition>:\n",
    "    statement(s)\n",
    "elif <condition>:\n",
    "    statement(s)\n",
    "else:\n",
    "    statement(s)\n",
    "print(rest of the code)\n",
    "```\n",
    "\n",
    "#### nested if:\n",
    "\n",
    "```python\n",
    "if <condition>:\n",
    "    statement(s)\n",
    "print(rest of the code)\n",
    "\n",
    "```\n",
    "\n",
    "\n",
    "    "
   ]
  },
  {
   "cell_type": "markdown",
   "id": "11a77143",
   "metadata": {},
   "source": [
    "# Exercise"
   ]
  },
  {
   "cell_type": "markdown",
   "id": "266f210f",
   "metadata": {},
   "source": [
    "### Program: Escsape characters"
   ]
  },
  {
   "cell_type": "code",
   "execution_count": 1,
   "id": "b8282eab",
   "metadata": {},
   "outputs": [
    {
     "name": "stdout",
     "output_type": "stream",
     "text": [
      "Twinkle, twinkle, little star\n",
      "\t How I wonder what you are!\n",
      "\t\t Up above the world so high,\n",
      "\t\t Like a diamond in the sky.\n",
      "Twinkle, twinkle, little star,\n",
      "\t How I wonder what you are\n"
     ]
    }
   ],
   "source": [
    "print('Twinkle, twinkle, little star\\n\\t How I wonder what you are!\\n\\t\\t Up above the world so high,\\n\\t\\t Like a diamond in the sky.\\nTwinkle, twinkle, little star,\\n\\t How I wonder what you are')"
   ]
  },
  {
   "cell_type": "markdown",
   "id": "9fcbb602",
   "metadata": {},
   "source": [
    "### Program: Python Version "
   ]
  },
  {
   "cell_type": "code",
   "execution_count": 2,
   "id": "14452f5d",
   "metadata": {},
   "outputs": [
    {
     "name": "stdout",
     "output_type": "stream",
     "text": [
      "3.9.7 (default, Sep 16 2021, 16:59:28) [MSC v.1916 64 bit (AMD64)]\n"
     ]
    }
   ],
   "source": [
    "import sys\n",
    "print(sys.version) #to know python version"
   ]
  },
  {
   "cell_type": "markdown",
   "id": "a08c3c39",
   "metadata": {},
   "source": [
    "### Program: Date and Time"
   ]
  },
  {
   "cell_type": "code",
   "execution_count": 3,
   "id": "ce83357d",
   "metadata": {},
   "outputs": [
    {
     "name": "stdout",
     "output_type": "stream",
     "text": [
      "Current date and time : \n",
      "2022-08-27 23:23:50\n"
     ]
    }
   ],
   "source": [
    "import datetime\n",
    "now = datetime.datetime.now()\n",
    "print (\"Current date and time : \")\n",
    "print (now.strftime(\"%Y-%m-%d %H:%M:%S\")) #strftime()means string representation of date or time object"
   ]
  },
  {
   "cell_type": "markdown",
   "id": "028311dc",
   "metadata": {},
   "source": [
    "### Program: Area of Circles"
   ]
  },
  {
   "cell_type": "code",
   "execution_count": 4,
   "id": "3b0ec648",
   "metadata": {},
   "outputs": [
    {
     "name": "stdout",
     "output_type": "stream",
     "text": [
      "16.9\n",
      "area: 897.6314285714284\n"
     ]
    }
   ],
   "source": [
    "r=float(input())\n",
    "print('area:',(22/7)*r**2)"
   ]
  },
  {
   "cell_type": "markdown",
   "id": "0085c550",
   "metadata": {},
   "source": [
    "### Program: Area of Circles - Importing Library"
   ]
  },
  {
   "cell_type": "code",
   "execution_count": 5,
   "id": "11f870a5",
   "metadata": {},
   "outputs": [
    {
     "name": "stdout",
     "output_type": "stream",
     "text": [
      "Input the radius of the circle : 16.9\n",
      "The area of the circle with radius 16.9 is: 897.2702777917807\n"
     ]
    }
   ],
   "source": [
    "from math import pi\n",
    "r = float(input (\"Input the radius of the circle : \"))\n",
    "print (\"The area of the circle with radius \" + str(r) + \" is: \" + str(pi * r**2))\n"
   ]
  },
  {
   "cell_type": "markdown",
   "id": "0b020abf",
   "metadata": {},
   "source": [
    "### Program: Concatenation of strings"
   ]
  },
  {
   "cell_type": "code",
   "execution_count": 6,
   "id": "4ebb5f6d",
   "metadata": {},
   "outputs": [
    {
     "name": "stdout",
     "output_type": "stream",
     "text": [
      "Durga Sai\n",
      "Nallani\n",
      "Nallani Durga Sai\n"
     ]
    }
   ],
   "source": [
    "a=input()\n",
    "b=input()\n",
    "print(b+' '+ a)"
   ]
  },
  {
   "cell_type": "markdown",
   "id": "d7aedc94",
   "metadata": {},
   "source": [
    "### Program: To know extension of file"
   ]
  },
  {
   "cell_type": "code",
   "execution_count": 7,
   "id": "90ee8f70",
   "metadata": {},
   "outputs": [
    {
     "name": "stdout",
     "output_type": "stream",
     "text": [
      "filename:Finisher.py\n",
      "py\n"
     ]
    }
   ],
   "source": [
    "a=input('filename:')\n",
    "b=a.split('.')\n",
    "print(b[-1])"
   ]
  },
  {
   "cell_type": "markdown",
   "id": "c747cc85",
   "metadata": {},
   "source": [
    "### Program: Indexing"
   ]
  },
  {
   "cell_type": "code",
   "execution_count": 8,
   "id": "2891eff3",
   "metadata": {},
   "outputs": [
    {
     "name": "stdout",
     "output_type": "stream",
     "text": [
      "Red Black\n"
     ]
    }
   ],
   "source": [
    "a= [\"Red\",\"Green\",\"White\" ,\"Black\"]\n",
    "print(a[0],a[-1])\n"
   ]
  },
  {
   "cell_type": "markdown",
   "id": "5a460034",
   "metadata": {},
   "source": [
    "### Program: Format date with /"
   ]
  },
  {
   "cell_type": "code",
   "execution_count": 9,
   "id": "df2d85e0",
   "metadata": {},
   "outputs": [
    {
     "name": "stdout",
     "output_type": "stream",
     "text": [
      "16/12/2022\n"
     ]
    }
   ],
   "source": [
    "a=(16, 12, 2022)\n",
    "print('%i/%i/%i'%a)\n"
   ]
  },
  {
   "cell_type": "markdown",
   "id": "ac5076ff",
   "metadata": {},
   "source": [
    "### Program: Input = 5, Process = 5+55+555, Output = 615"
   ]
  },
  {
   "cell_type": "code",
   "execution_count": 10,
   "id": "41af4fc3",
   "metadata": {},
   "outputs": [
    {
     "name": "stdout",
     "output_type": "stream",
     "text": [
      "Input an integer : 5\n",
      "615\n"
     ]
    }
   ],
   "source": [
    "a = int(input(\"Input an integer : \"))\n",
    "n1 = int( \"%s\" % a )\n",
    "n2 = int( \"%s%s\" % (a,a) )\n",
    "n3 = int( \"%s%s%s\" % (a,a,a) )\n",
    "print (n1+n2+n3)\n"
   ]
  },
  {
   "cell_type": "markdown",
   "id": "48915559",
   "metadata": {},
   "source": [
    "### Program: Calendar"
   ]
  },
  {
   "cell_type": "code",
   "execution_count": 11,
   "id": "7426d9ae",
   "metadata": {},
   "outputs": [
    {
     "name": "stdout",
     "output_type": "stream",
     "text": [
      "year:2022\n",
      "month:12\n",
      "   December 2022\n",
      "Mo Tu We Th Fr Sa Su\n",
      "          1  2  3  4\n",
      " 5  6  7  8  9 10 11\n",
      "12 13 14 15 16 17 18\n",
      "19 20 21 22 23 24 25\n",
      "26 27 28 29 30 31\n",
      "\n"
     ]
    }
   ],
   "source": [
    "import calendar\n",
    "y=int(input('year:'))\n",
    "m=int(input('month:'))\n",
    "print(calendar.month(y,m))"
   ]
  },
  {
   "cell_type": "markdown",
   "id": "db6fd71e",
   "metadata": {},
   "source": [
    "### Program: Multi-line system"
   ]
  },
  {
   "cell_type": "code",
   "execution_count": 12,
   "id": "b9d61bbb",
   "metadata": {},
   "outputs": [
    {
     "name": "stdout",
     "output_type": "stream",
     "text": [
      "a string that you \"don't\" have to escape\n",
      "This\n",
      "is a ....... multi-line\n",
      "heredoc string --------> example\n",
      "\n",
      "\n"
     ]
    }
   ],
   "source": [
    "print('''a string that you \"don't\" have to escape\n",
    "This\n",
    "is a ....... multi-line\n",
    "heredoc string --------> example\n",
    "\n",
    "''')\n"
   ]
  },
  {
   "cell_type": "markdown",
   "id": "febcb4f7",
   "metadata": {},
   "source": [
    "### Program: Number of days between 2 dates."
   ]
  },
  {
   "cell_type": "code",
   "execution_count": 13,
   "id": "18bf0c8c",
   "metadata": {},
   "outputs": [
    {
     "name": "stdout",
     "output_type": "stream",
     "text": [
      "1999\n",
      "12\n",
      "16\n",
      "2022\n",
      "12\n",
      "16\n",
      "8401\n"
     ]
    }
   ],
   "source": [
    "from datetime import date\n",
    "y1=int(input())\n",
    "m1=int(input())\n",
    "d1=int(input())\n",
    "y2=int(input())\n",
    "m2=int(input())\n",
    "d2=int(input())\n",
    "s=date(y1,m1,d1)\n",
    "e=date(y2,m2,d2)\n",
    "d=e-s\n",
    "print(d.days)"
   ]
  },
  {
   "cell_type": "markdown",
   "id": "5c07618b",
   "metadata": {},
   "source": [
    "### Program: Volume of sphere"
   ]
  },
  {
   "cell_type": "code",
   "execution_count": 14,
   "id": "ad298bc2",
   "metadata": {},
   "outputs": [
    {
     "name": "stdout",
     "output_type": "stream",
     "text": [
      "16\n",
      "volume of the sphere: 17164.190476190473\n"
     ]
    }
   ],
   "source": [
    "r=int(input())\n",
    "print('volume of the sphere:',(4/3)*(22/7)*r**3)"
   ]
  },
  {
   "cell_type": "markdown",
   "id": "3a34e7e7",
   "metadata": {},
   "source": [
    "### Program: Take input \"a\" from user, if a is greater than 17 then subtract 17 from and multiply by 2 and print it. Else subtract a from 17 and print it."
   ]
  },
  {
   "cell_type": "code",
   "execution_count": 15,
   "id": "5ac8f927",
   "metadata": {},
   "outputs": [
    {
     "name": "stdout",
     "output_type": "stream",
     "text": [
      "16\n",
      "1\n"
     ]
    }
   ],
   "source": [
    "a=int(input())\n",
    "if a>17:\n",
    "    print((a-17)*2)\n",
    "else:\n",
    "    print(17-a)\n"
   ]
  }
 ],
 "metadata": {
  "kernelspec": {
   "display_name": "Python 3 (ipykernel)",
   "language": "python",
   "name": "python3"
  },
  "language_info": {
   "codemirror_mode": {
    "name": "ipython",
    "version": 3
   },
   "file_extension": ".py",
   "mimetype": "text/x-python",
   "name": "python",
   "nbconvert_exporter": "python",
   "pygments_lexer": "ipython3",
   "version": "3.9.7"
  }
 },
 "nbformat": 4,
 "nbformat_minor": 5
}
